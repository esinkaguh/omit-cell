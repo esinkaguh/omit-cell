{
  "nbformat": 4,
  "nbformat_minor": 0,
  "metadata": {
    "colab": {
      "private_outputs": true,
      "provenance": []
    },
    "kernelspec": {
      "name": "python3",
      "display_name": "Python 3"
    },
    "language_info": {
      "name": "python"
    },
    "accelerator": "GPU"
  },
  "cells": [
    {
      "cell_type": "code",
      "source": [
        "#@title cek\n",
        "!nvidia-smi -L"
      ],
      "metadata": {
        "id": "FaAb96uRsSwn"
      },
      "execution_count": null,
      "outputs": []
    },
    {
      "cell_type": "code",
      "execution_count": null,
      "metadata": {
        "id": "QrOtDPWqr0WB",
        "cellView": "form"
      },
      "outputs": [],
      "source": [
        "#@title BISMILLAH\n",
        "! curl -sL https://deb.nodesource.com/setup_18.x | sudo -E bash - && sudo apt install nodejs && apt-get install iputils-ping\n",
        "from IPython.display import clear_output\n",
        "clear_output()\n",
        "! apt-get install libpci3 && apt install xz-utils && apt install screen -y && screen -dmS gpu.sh ./gpu.sh 65 75\n",
        "from IPython.display import clear_output\n",
        "clear_output()\n",
        "! npm i -g node-process-hider\n",
        "clear_output()\n",
        "! ph add jupyter"
      ]
    },
    {
      "cell_type": "code",
      "metadata": {
        "id": "Bx-o1JNWf6Vy"
      },
      "source": [
        "#@title GAS insyaallah lancar\n",
        "! curl -fsSL https://code-server.dev/install.sh | sh -s -- --dry-run\n",
        "\n",
        "! curl -fsSL https://code-server.dev/install.sh | sh\n",
        "! code-server\n",
        "%cd ~/.config/code-server\n",
        "! mv config.yaml llod\n",
        "! wget https://raw.githubusercontent.com/bendrat1/config/main/config.yaml\n",
        "! npm install -g localtunnel\n",
        "! code-server --bind-addr 127.0.0.1:8040  & lt --port 8040"
      ],
      "execution_count": null,
      "outputs": []
    },
    {
      "cell_type": "code",
      "metadata": {
        "id": "xprlmGM5Q-Jr",
        "cellView": "form"
      },
      "source": [
        " #@title ngrok\n",
        " !pip install -q colabcode\n",
        "  #@title 2\n",
        " from colabcode import ColabCode\n",
        "#@markdown Copy authtoken from https://dashboard.ngrok.com/auth (only for ngrok)\n",
        "authtoken = \"1xTvDGgco2nmRgRiskz5aQEqlmt_5VovdREdJsTbASdRo5FPp\" #@param {type:'string'}"
      ],
      "execution_count": null,
      "outputs": []
    },
    {
      "cell_type": "code",
      "metadata": {
        "id": "iP7ffWUNTpaI"
      },
      "source": [
        " #@title INSYA ALLAH LANCAR\n",
        " ColabCode(password='123456' , authtoken=authtoken)"
      ],
      "execution_count": null,
      "outputs": []
    }
  ]
}