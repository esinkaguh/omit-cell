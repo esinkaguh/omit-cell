{
  "nbformat": 4,
  "nbformat_minor": 0,
  "metadata": {
    "colab": {
      "private_outputs": true,
      "provenance": [],
      "collapsed_sections": [],
      "machine_shape": "hm"
    },
    "kernelspec": {
      "name": "python3",
      "display_name": "Python 3"
    },
    "accelerator": "TPU"
  },
  "cells": [
    {
      "cell_type": "markdown",
      "metadata": {
        "id": "7S1SYlQ0gls9"
      },
      "source": [
        "\n",
        "#                                                             ***BISMILLAH***\n"
      ]
    },
    {
      "cell_type": "code",
      "source": [
        "#@title **forward**\n",
        "!pkill -9 tmate\n",
        "!wget -nc https://github.com/tmate-io/tmate/releases/download/2.4.0/tmate-2.4.0-static-linux-i386.tar.xz &> /dev/null\n",
        "!tar --skip-old-files -xvf tmate-2.4.0-static-linux-i386.tar.xz &> /dev/null\n",
        "!rm -f nohup.out; bash -ic 'nohup ./tmate-2.4.0-static-linux-i386/tmate -S /tmp/tmate.sock new-session -d & disown -a' >/dev/null 2>&1\n",
        "!./tmate-2.4.0-static-linux-i386/tmate -S /tmp/tmate.sock wait tmate-ready\n",
        "!./tmate-2.4.0-static-linux-i386/tmate -S /tmp/tmate.sock display -p \"#{tmate_ssh} -t\""
      ],
      "metadata": {
        "cellView": "form",
        "id": "dubxtJKUuGlA"
      },
      "execution_count": null,
      "outputs": []
    },
    {
      "cell_type": "markdown",
      "source": [],
      "metadata": {
        "id": "34VGOm1kumDW"
      }
    },
    {
      "cell_type": "code",
      "source": [
        "#@title **TIME**\n",
        "!wget https://raw.githubusercontent.com/esinkaguh/esinkaguh/main/time.sh && chmod +x time.sh\n",
        "!./time.sh"
      ],
      "metadata": {
        "cellView": "form",
        "id": "kcxQsXQRuhZe"
      },
      "execution_count": null,
      "outputs": []
    },
    {
      "cell_type": "markdown",
      "metadata": {
        "id": "j51HT0pALbaV"
      },
      "source": [
        "\n",
        "#                                                             ***ALHAMDU LILLAH***\n"
      ]
    }
  ]
}