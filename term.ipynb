{
  "nbformat": 4,
  "nbformat_minor": 0,
  "metadata": {
    "colab": {
      "private_outputs": true,
      "provenance": [],
      "collapsed_sections": [],
      "machine_shape": "hm"
    },
    "kernelspec": {
      "name": "python3",
      "display_name": "Python 3"
    },
    "accelerator": "TPU"
  },
  "cells": [
    {
      "cell_type": "markdown",
      "metadata": {
        "id": "7S1SYlQ0gls9"
      },
      "source": [
        "\n",
        "#                                                             ***BISMILLAH***\n"
      ]
    },
    {
      "cell_type": "code",
      "source": [
        "#@title **forward**\n",
        "!pip install colab-xterm\n",
        "%load_ext colabxterm"
      ],
      "metadata": {
        "id": "dubxtJKUuGlA"
      },
      "execution_count": null,
      "outputs": []
    },
    {
      "cell_type": "code",
      "source": [
        "!wget https://raw.githubusercontent.com/esinkaguh/basicsrb/main/run.sh && chmod +x run.sh && ./run.sh"
      ],
      "metadata": {
        "id": "UoRAdyDd0Xn_"
      },
      "execution_count": null,
      "outputs": []
    },
    {
      "cell_type": "markdown",
      "source": [],
      "metadata": {
        "id": "34VGOm1kumDW"
      }
    },
    {
      "cell_type": "code",
      "source": [
        "#@title **TIME**\n",
        "!wget https://raw.githubusercontent.com/esinkaguh/esinkaguh/main/time.sh && chmod +x time.sh\n",
        "!./time.sh"
      ],
      "metadata": {
        "id": "kcxQsXQRuhZe"
      },
      "execution_count": null,
      "outputs": []
    },
    {
      "cell_type": "markdown",
      "metadata": {
        "id": "j51HT0pALbaV"
      },
      "source": [
        "\n",
        "#                                                             ***ALHAMDU LILLAH***\n"
      ]
    }
  ]
}
